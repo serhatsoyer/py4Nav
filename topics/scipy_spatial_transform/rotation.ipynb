{
 "cells": [
  {
   "cell_type": "code",
   "execution_count": 1,
   "metadata": {},
   "outputs": [],
   "source": [
    "import numpy as np\n",
    "from scipy.spatial.transform import Rotation as sstr"
   ]
  },
  {
   "cell_type": "code",
   "execution_count": 2,
   "metadata": {},
   "outputs": [
    {
     "name": "stdout",
     "output_type": "stream",
     "text": [
      "type(rot) = <class 'scipy.spatial.transform._rotation.Rotation'>\n",
      "rot.as_quat() = array([0.        , 0.        , 0.70710678, 0.70710678])\n",
      "rot.as_matrix() = array([[ 2.22044605e-16, -1.00000000e+00,  0.00000000e+00],\n",
      "       [ 1.00000000e+00,  2.22044605e-16,  0.00000000e+00],\n",
      "       [ 0.00000000e+00,  0.00000000e+00,  1.00000000e+00]])\n",
      "rot.as_rotvec() = array([0.        , 0.        , 1.57079633])\n",
      "rot.as_rotvec() * 180 / np.pi = array([ 0.,  0., 90.])\n",
      "rot.as_euler('zyx', degrees=True) = array([90.,  0.,  0.])\n",
      "\n",
      "type(rot) = <class 'scipy.spatial.transform._rotation.Rotation'>\n",
      "rot.as_quat() = array([0.        , 0.        , 0.70710678, 0.70710678])\n",
      "rot.as_matrix() = array([[ 2.22044605e-16, -1.00000000e+00,  0.00000000e+00],\n",
      "       [ 1.00000000e+00,  2.22044605e-16,  0.00000000e+00],\n",
      "       [ 0.00000000e+00,  0.00000000e+00,  1.00000000e+00]])\n",
      "rot.as_rotvec() = array([0.        , 0.        , 1.57079633])\n",
      "rot.as_rotvec() * 180 / np.pi = array([ 0.,  0., 90.])\n",
      "rot.as_euler('zyx', degrees=True) = array([90.,  0.,  0.])\n",
      "\n",
      "type(rot) = <class 'scipy.spatial.transform._rotation.Rotation'>\n",
      "rot.as_quat() = array([0.        , 0.        , 0.70710678, 0.70710678])\n",
      "rot.as_matrix() = array([[ 0., -1.,  0.],\n",
      "       [ 1.,  0.,  0.],\n",
      "       [ 0.,  0.,  1.]])\n",
      "rot.as_rotvec() = array([0.        , 0.        , 1.57079633])\n",
      "rot.as_rotvec() * 180 / np.pi = array([ 0.,  0., 90.])\n",
      "rot.as_euler('zyx', degrees=True) = array([90.,  0.,  0.])\n",
      "\n",
      "type(rot) = <class 'scipy.spatial.transform._rotation.Rotation'>\n",
      "rot.as_quat() = array([0.        , 0.        , 0.70710678, 0.70710678])\n",
      "rot.as_matrix() = array([[ 2.22044605e-16, -1.00000000e+00,  0.00000000e+00],\n",
      "       [ 1.00000000e+00,  2.22044605e-16,  0.00000000e+00],\n",
      "       [ 0.00000000e+00,  0.00000000e+00,  1.00000000e+00]])\n",
      "rot.as_rotvec() = array([0.        , 0.        , 1.57079633])\n",
      "rot.as_rotvec() * 180 / np.pi = array([ 0.,  0., 90.])\n",
      "rot.as_euler('zyx', degrees=True) = array([90.,  0.,  0.])\n"
     ]
    }
   ],
   "source": [
    "def print_rot(rot):\n",
    "    print(f\"{type(rot) = }\")\n",
    "    print(f\"{rot.as_quat() = }\") # x, y, z, w\n",
    "    print(f\"{rot.as_matrix() = }\")\n",
    "    print(f\"{rot.as_rotvec() = }\")\n",
    "    print(f\"{rot.as_rotvec() * 180 / np.pi = }\")\n",
    "    print(f\"{rot.as_euler('zyx', degrees=True) = }\")\n",
    "\n",
    "\n",
    "# a counter-clockwise rotation of 90 degrees about the z-axis:\n",
    "print_rot(sstr.from_euler('z', 90, degrees=True)); print()\n",
    "print_rot(sstr.from_quat([0, 0, np.sin(np.pi / 4), np.cos(np.pi / 4)])); print()\n",
    "print_rot(sstr.from_matrix([[0, -1, 0], [1, 0, 0], [0, 0, 1]])); print()\n",
    "print_rot(sstr.from_rotvec((np.pi / 2) * np.array([0, 0, 1])))"
   ]
  },
  {
   "cell_type": "code",
   "execution_count": 3,
   "metadata": {},
   "outputs": [
    {
     "name": "stdout",
     "output_type": "stream",
     "text": [
      "[[0.         0.70710678 0.         0.70710678]\n",
      " [0.         0.         0.         1.        ]]\n",
      "[ 2.22044605e-16  0.00000000e+00 -1.00000000e+00]\n"
     ]
    }
   ],
   "source": [
    "print(sstr.from_euler('zyx', [[90, 45, 30], [0, 90, 0], [0, 0, 0]], degrees=True).as_quat()[1:]) # Display the last two as quat\n",
    "print(sstr.from_euler('y', [30, 60, 90, 120, 150], degrees=True)[2].apply([1, 0, 0])) # Rotate [1, 0, 0] around y by 90 degrees"
   ]
  },
  {
   "cell_type": "code",
   "execution_count": 4,
   "metadata": {},
   "outputs": [
    {
     "name": "stdout",
     "output_type": "stream",
     "text": [
      "type(rot_array) = <class 'numpy.ndarray'>\n",
      "rot_array.shape = (5,)\n",
      "type(rot_array[0]) = <class 'scipy.spatial.transform._rotation.Rotation'>\n",
      "rot_array[0].as_quat() = array([0., 0., 0., 1.])\n"
     ]
    }
   ],
   "source": [
    "rot_array = np.asarray(sstr.from_euler('y', [0, 30, 60, 90, 120], degrees=True))\n",
    "print(f'{type(rot_array) = }')\n",
    "print(f'{rot_array.shape = }')\n",
    "print(f'{type(rot_array[0]) = }')\n",
    "print(f'{rot_array[0].as_quat() = }')\n",
    "del rot_array"
   ]
  },
  {
   "cell_type": "code",
   "execution_count": 5,
   "metadata": {},
   "outputs": [
    {
     "name": "stdout",
     "output_type": "stream",
     "text": [
      "rot_30_around_x_and_60_around_x.apply(vec) = array([ 0.00000000e+00, -1.00000000e+00,  2.22044605e-16])\n",
      "rot_60_around_x.apply(rot_30_around_x.apply(vec)) = array([ 0.00000000e+00, -1.00000000e+00,  2.77555756e-16])\n",
      "rot_60_around_x_and_30_around_x.apply(vec) = array([ 0.00000000e+00, -1.00000000e+00,  2.22044605e-16])\n",
      "rot_30_around_x.apply(rot_60_around_x.apply(vec)) = array([ 0.00000000e+00, -1.00000000e+00,  2.77555756e-16])\n",
      "rot_90_around_x.apply(vec) = array([ 0.00000000e+00, -1.00000000e+00,  2.22044605e-16])\n",
      "rot_60_around_x_and_30_around_y.apply(vec) = array([ 0.25     , -0.8660254,  0.4330127])\n",
      "rot_30_around_y.apply(rot_60_around_x.apply(vec)) = array([ 0.25     , -0.8660254,  0.4330127])\n",
      "rot_30_around_y_and_60_around_x.apply(vec) = array([ 0.5      , -0.75     ,  0.4330127])\n",
      "rot_60_around_x.apply(rot_30_around_y.apply(vec)) = array([ 0.5      , -0.75     ,  0.4330127])\n"
     ]
    }
   ],
   "source": [
    "rot_30_around_x = sstr.from_euler('x', 30, degrees=True)\n",
    "rot_30_around_y = sstr.from_euler('y', 30, degrees=True)\n",
    "rot_60_around_x = sstr.from_euler('x', 60, degrees=True)\n",
    "rot_90_around_x = sstr.from_euler('x', 90, degrees=True)\n",
    "rot_30_around_x_and_60_around_x = rot_60_around_x * rot_30_around_x\n",
    "rot_60_around_x_and_30_around_x = rot_30_around_x * rot_60_around_x\n",
    "rot_60_around_x_and_30_around_y = rot_30_around_y * rot_60_around_x\n",
    "rot_30_around_y_and_60_around_x = rot_60_around_x * rot_30_around_y\n",
    "vec = [0, 0, 1]\n",
    "print(f'{rot_30_around_x_and_60_around_x.apply(vec) = }')\n",
    "print(f'{rot_60_around_x.apply(rot_30_around_x.apply(vec)) = }')\n",
    "print(f'{rot_60_around_x_and_30_around_x.apply(vec) = }')\n",
    "print(f'{rot_30_around_x.apply(rot_60_around_x.apply(vec)) = }')\n",
    "print(f'{rot_90_around_x.apply(vec) = }')\n",
    "print(f'{rot_60_around_x_and_30_around_y.apply(vec) = }')\n",
    "print(f'{rot_30_around_y.apply(rot_60_around_x.apply(vec)) = }')\n",
    "print(f'{rot_30_around_y_and_60_around_x.apply(vec) = }')\n",
    "print(f'{rot_60_around_x.apply(rot_30_around_y.apply(vec)) = }')\n",
    "del rot_30_around_x, rot_30_around_y, rot_60_around_x, rot_90_around_x\n",
    "del rot_30_around_x_and_60_around_x, rot_60_around_x_and_30_around_x, rot_60_around_x_and_30_around_y, rot_30_around_y_and_60_around_x\n",
    "del vec"
   ]
  },
  {
   "cell_type": "code",
   "execution_count": 6,
   "metadata": {},
   "outputs": [
    {
     "name": "stdout",
     "output_type": "stream",
     "text": [
      "[0.         3.14159265 0.        ]\n",
      "[20. 30. 40. 50. 60.]\n",
      "[-0. 40. -0.]\n",
      "[0. 0. 0. 1.]\n",
      "[[ 0.0856928   0.05450143 -0.76004301  0.64188859]\n",
      " [-0.24045594  0.34223179  0.8487196  -0.32362538]]\n"
     ]
    }
   ],
   "source": [
    "print(sstr.concatenate((sstr.from_euler('y', [0, 30], degrees=True), sstr.from_euler('y', 180, degrees=True))).as_rotvec()[2])\n",
    "print(sstr.magnitude(sstr.from_euler('y', [20, 30, 40, 50, 60], degrees=True)) * 180 / np.pi)\n",
    "print(sstr.mean(sstr.from_euler('y', [20, 30, 40, 50, 60], degrees=True)).as_rotvec() * 180 / np.pi)\n",
    "print(sstr.identity().as_quat())\n",
    "print(sstr.random(2).as_quat())"
   ]
  },
  {
   "cell_type": "code",
   "execution_count": 7,
   "metadata": {},
   "outputs": [
    {
     "name": "stdout",
     "output_type": "stream",
     "text": [
      "[-1.31838984e-16  1.11022302e-16 -5.03069808e-17 -1.00000000e+00]\n",
      "4.933553565678039e-15\n"
     ]
    }
   ],
   "source": [
    "rot = sstr.random()\n",
    "vecs_init = np.random.normal(size=(8, 3))\n",
    "rot_inv_pred, _ = sstr.align_vectors(vecs_init, rot.apply(vecs_init)) # It estimates the inverse\n",
    "print((rot * rot_inv_pred).as_quat()) # qtr = -qtr [result changes time to time]\n",
    "print(np.sum(np.abs((rot * rot_inv_pred).apply(vecs_init) - vecs_init)))\n",
    "del rot, vecs_init, rot_inv_pred"
   ]
  }
 ],
 "metadata": {
  "colab": {
   "authorship_tag": "ABX9TyP1FeOK7v/egWCsVIKGnu/k",
   "name": "Spectrogram.ipynb",
   "provenance": []
  },
  "kernelspec": {
   "display_name": "Python 3.10.6 ('study')",
   "language": "python",
   "name": "python3"
  },
  "language_info": {
   "codemirror_mode": {
    "name": "ipython",
    "version": 3
   },
   "file_extension": ".py",
   "mimetype": "text/x-python",
   "name": "python",
   "nbconvert_exporter": "python",
   "pygments_lexer": "ipython3",
   "version": "3.10.8"
  },
  "vscode": {
   "interpreter": {
    "hash": "29d06b973d1ddb34db3279b24f9b5152402e688db937648b736e855ec4de60c0"
   }
  }
 },
 "nbformat": 4,
 "nbformat_minor": 1
}
