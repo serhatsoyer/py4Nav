{
 "cells": [
  {
   "cell_type": "code",
   "execution_count": 1,
   "metadata": {},
   "outputs": [],
   "source": [
    "import numpy as np\n",
    "from scipy.spatial.transform import Rotation as sstr\n",
    "from scipy.spatial.transform import Slerp as ssts"
   ]
  },
  {
   "cell_type": "code",
   "execution_count": 2,
   "metadata": {},
   "outputs": [
    {
     "name": "stdout",
     "output_type": "stream",
     "text": [
      "[[ 0.  0. 20.]\n",
      " [ 0.  0. 30.]\n",
      " [ 0.  0. 40.]\n",
      " [ 0.  0. 50.]\n",
      " [ 0.  0. 60.]]\n",
      "[[ 0.   0.  20. ]\n",
      " [ 0.   0.  22.5]\n",
      " [ 0.   0.  25. ]\n",
      " [ 0.   0.  27.5]\n",
      " [ 0.   0.  30. ]\n",
      " [ 0.   0.  32.5]\n",
      " [ 0.   0.  35. ]\n",
      " [ 0.   0.  37.5]]\n"
     ]
    }
   ],
   "source": [
    "rots = sstr.from_euler('z', [20, 30, 40, 50, 60], degrees=True)\n",
    "times = [0, 4, 8, 12, 16]\n",
    "slerp = ssts(times, rots)\n",
    "times = np.arange(8)\n",
    "interp_rots = slerp(times)\n",
    "print(rots.as_euler('xyz', degrees=True))\n",
    "print(interp_rots.as_euler('xyz', degrees=True))"
   ]
  }
 ],
 "metadata": {
  "colab": {
   "authorship_tag": "ABX9TyP1FeOK7v/egWCsVIKGnu/k",
   "name": "Spectrogram.ipynb",
   "provenance": []
  },
  "kernelspec": {
   "display_name": "Python 3.10.6 ('study')",
   "language": "python",
   "name": "python3"
  },
  "language_info": {
   "codemirror_mode": {
    "name": "ipython",
    "version": 3
   },
   "file_extension": ".py",
   "mimetype": "text/x-python",
   "name": "python",
   "nbconvert_exporter": "python",
   "pygments_lexer": "ipython3",
   "version": "3.10.8"
  },
  "vscode": {
   "interpreter": {
    "hash": "29d06b973d1ddb34db3279b24f9b5152402e688db937648b736e855ec4de60c0"
   }
  }
 },
 "nbformat": 4,
 "nbformat_minor": 1
}
