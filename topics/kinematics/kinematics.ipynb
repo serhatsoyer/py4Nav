{
 "cells": [
  {
   "attachments": {},
   "cell_type": "markdown",
   "metadata": {},
   "source": [
    "$x^\\beta=C_\\alpha^\\beta x^\\alpha$  \n",
    "$C\\text{: coordinate transformation matrix}$  \n",
    "$x\\text{: a vector}$  \n",
    "$\\alpha\\text{ or }\\beta\\text{: resolving axes}$  \n",
    "\n",
    "------\n",
    "$C_\\alpha^\\gamma=C_\\beta^\\gamma C_\\alpha^\\beta$  \n",
    "$C_\\alpha^\\beta C_\\beta^\\alpha=I_3$  \n",
    "\n",
    "------\n",
    "$x^\\gamma_{\\beta\\alpha}$  \n",
    "$\\alpha\\text{: property of this frame}$  \n",
    "$\\beta\\text{: with respect to this frame}$  \n",
    "$\\gamma\\text{: result expressed in this frame}$  \n",
    "$x\\text{: angular velocity, cartesian position, velocity, or acceleration}$  \n",
    "\n",
    "------\n",
    "$\\text{angular velocity}$  \n",
    "$\\omega^\\gamma_{\\beta\\alpha}=-\\omega^\\gamma_{\\alpha\\beta}$  \n",
    "$\\omega^\\gamma_{\\beta\\alpha}=\\omega^\\gamma_{\\beta\\delta}+\\omega^\\gamma_{\\delta\\alpha}$  \n",
    "$\\omega^\\delta_{\\beta\\alpha}=C_\\gamma^\\delta\\omega^\\gamma_{\\beta\\alpha}$  \n",
    "\n",
    "------\n",
    "$\\text{position}$  \n",
    "$r^\\gamma_{\\beta\\alpha}=-r^\\gamma_{\\alpha\\beta}$  \n",
    "$r^\\gamma_{\\beta\\alpha}=r^\\gamma_{\\delta\\alpha}-r^\\gamma_{\\delta\\beta}$  \n",
    "$r^\\delta_{\\beta\\alpha}=C_\\gamma^\\delta r^\\gamma_{\\beta\\alpha}$  \n",
    "\n",
    "------\n",
    "$\\text{velocity}$  \n",
    "$v^\\gamma_{\\beta\\alpha}=C_\\beta^\\gamma\\dot{r}^\\beta_{\\beta\\alpha}$  \n",
    "$v^\\delta_{\\beta\\alpha}=C_\\gamma^\\delta v^\\gamma_{\\beta\\alpha}$  \n",
    "\n",
    "------\n",
    "$\\text{acceleration}$  \n",
    "$a^\\gamma_{\\beta\\alpha}=C_\\beta^\\gamma\\ddot{r}^\\beta_{\\beta\\alpha}$  \n",
    "$a^\\delta_{\\beta\\alpha}=C_\\gamma^\\delta a^\\gamma_{\\beta\\alpha}$"
   ]
  }
 ],
 "metadata": {
  "colab": {
   "authorship_tag": "ABX9TyP1FeOK7v/egWCsVIKGnu/k",
   "name": "Spectrogram.ipynb",
   "provenance": []
  },
  "kernelspec": {
   "display_name": "Python 3.10.6 ('study')",
   "language": "python",
   "name": "python3"
  },
  "language_info": {
   "codemirror_mode": {
    "name": "ipython",
    "version": 3
   },
   "file_extension": ".py",
   "mimetype": "text/x-python",
   "name": "python",
   "nbconvert_exporter": "python",
   "pygments_lexer": "ipython3",
   "version": "3.10.8 (main, Nov 24 2022, 08:08:27) [Clang 14.0.6 ]"
  },
  "vscode": {
   "interpreter": {
    "hash": "29d06b973d1ddb34db3279b24f9b5152402e688db937648b736e855ec4de60c0"
   }
  }
 },
 "nbformat": 4,
 "nbformat_minor": 1
}
