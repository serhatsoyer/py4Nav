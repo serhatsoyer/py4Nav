{
 "cells": [
  {
   "attachments": {},
   "cell_type": "markdown",
   "metadata": {},
   "source": [
    "$x^\\beta=C_\\alpha^\\beta x^\\alpha\\nonumber\\\\\n",
    "C\\text{: coordinate transformation matrix}\\nonumber\\\\\n",
    "x\\text{: a vector}\\nonumber\\\\\n",
    "\\alpha\\text{ or }\\beta\\text{: resolving axes}\\nonumber$\n",
    "\n",
    "------\n",
    "\n",
    "$C_\\alpha^\\gamma=C_\\beta^\\gamma C_\\alpha^\\beta\\nonumber\\\\\n",
    "C_\\alpha^\\beta C_\\beta^\\alpha=I_3\\nonumber$\n",
    "\n",
    "------\n",
    "\n",
    "$x^\\gamma_{\\beta\\alpha}\\nonumber\\\\\n",
    "\\alpha\\text{: property of this frame}\\nonumber\\\\\n",
    "\\beta\\text{: with respect to this frame}\\nonumber\\\\\n",
    "\\gamma\\text{: result expressed in this frame}\\nonumber\\\\\n",
    "x\\text{: angular velocity, cartesian position, velocity, or acceleration}\\nonumber$\n",
    "\n",
    "------\n",
    "\n",
    "$\\text{angular velocity}\\nonumber\\\\\n",
    "\\omega^\\gamma_{\\beta\\alpha}=-\\omega^\\gamma_{\\alpha\\beta}\\nonumber\\\\\n",
    "\\omega^\\gamma_{\\beta\\alpha}=\\omega^\\gamma_{\\beta\\delta}+\\omega^\\gamma_{\\delta\\alpha}\\nonumber\\\\\n",
    "\\omega^\\delta_{\\beta\\alpha}=C_\\gamma^\\delta\\omega^\\gamma_{\\beta\\alpha}\\nonumber$\n",
    "\n",
    "------\n",
    "\n",
    "$\\text{position}\\nonumber\\\\\n",
    "r^\\gamma_{\\beta\\alpha}=-r^\\gamma_{\\alpha\\beta}\\nonumber\\\\\n",
    "r^\\gamma_{\\beta\\alpha}=r^\\gamma_{\\delta\\alpha}-r^\\gamma_{\\delta\\beta}\\nonumber\\\\\n",
    "r^\\delta_{\\beta\\alpha}=C_\\gamma^\\delta r^\\gamma_{\\beta\\alpha}\\nonumber$\n",
    "\n",
    "------\n",
    "\n",
    "$\\text{velocity}\\nonumber\\\\\n",
    "v^\\gamma_{\\beta\\alpha}=C_\\beta^\\gamma\\dot{r}^\\beta_{\\beta\\alpha}\\nonumber\\\\\n",
    "v^\\delta_{\\beta\\alpha}=C_\\gamma^\\delta v^\\gamma_{\\beta\\alpha}\\nonumber$\n",
    "\n",
    "------\n",
    "\n",
    "$\\text{acceleration}\\nonumber\\\\\n",
    "a^\\gamma_{\\beta\\alpha}=C_\\beta^\\gamma\\ddot{r}^\\beta_{\\beta\\alpha}\\nonumber\\\\\n",
    "a^\\delta_{\\beta\\alpha}=C_\\gamma^\\delta a^\\gamma_{\\beta\\alpha}\\nonumber$"
   ]
  }
 ],
 "metadata": {
  "colab": {
   "authorship_tag": "ABX9TyP1FeOK7v/egWCsVIKGnu/k",
   "name": "Spectrogram.ipynb",
   "provenance": []
  },
  "kernelspec": {
   "display_name": "Python 3.10.6 ('study')",
   "language": "python",
   "name": "python3"
  },
  "language_info": {
   "codemirror_mode": {
    "name": "ipython",
    "version": 3
   },
   "file_extension": ".py",
   "mimetype": "text/x-python",
   "name": "python",
   "nbconvert_exporter": "python",
   "pygments_lexer": "ipython3",
   "version": "3.10.8 (main, Nov 24 2022, 08:08:27) [Clang 14.0.6 ]"
  },
  "vscode": {
   "interpreter": {
    "hash": "29d06b973d1ddb34db3279b24f9b5152402e688db937648b736e855ec4de60c0"
   }
  }
 },
 "nbformat": 4,
 "nbformat_minor": 1
}
